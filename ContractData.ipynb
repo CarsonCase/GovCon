{
 "cells": [
  {
   "cell_type": "markdown",
   "metadata": {},
   "source": [
    "# Contract Data Analysis\n",
    "Author: Carson Case [carsonpcase@gmail.com]  \n",
    "This notebook is to used for analysing contract NAICS codes to find the best NAICS opportunities among contract data on sam.gov  \n",
    "\n",
    "Download the data here:  \n",
    "https://sam.gov/data-services/Contract%20Opportunities/Archived%20Data?privacy=Public"
   ]
  },
  {
   "cell_type": "code",
   "execution_count": 1,
   "metadata": {},
   "outputs": [
    {
     "name": "stderr",
     "output_type": "stream",
     "text": [
      "/tmp/ipykernel_3844/3144670377.py:4: DtypeWarning: Columns (27,34) have mixed types. Specify dtype option on import or set low_memory=False.\n",
      "  df1 = pd.read_csv(\"2024data.csv\",  encoding = \"ISO-8859-1\")\n",
      "/tmp/ipykernel_3844/3144670377.py:5: DtypeWarning: Columns (27,34,44) have mixed types. Specify dtype option on import or set low_memory=False.\n",
      "  df2 = pd.read_csv(\"2023data.csv\",  encoding = \"ISO-8859-1\")\n"
     ]
    }
   ],
   "source": [
    "# Import the data as csv. NOTE data is renamed\n",
    "import pandas as pd\n",
    "\n",
    "df1 = pd.read_csv(\"2024data.csv\",  encoding = \"ISO-8859-1\")\n",
    "df2 = pd.read_csv(\"2023data.csv\",  encoding = \"ISO-8859-1\")\n",
    "df = pd.concat([df1,df2])"
   ]
  },
  {
   "cell_type": "code",
   "execution_count": 2,
   "metadata": {},
   "outputs": [],
   "source": [
    "# Filter out Small Business Set Aside contracts only\n",
    "dfsba = df[df['SetASideCode'] == 'SBA']"
   ]
  },
  {
   "cell_type": "code",
   "execution_count": 3,
   "metadata": {},
   "outputs": [],
   "source": [
    "\"\"\"\n",
    "Function for returning the following data per NAICS code:\n",
    "@returns\n",
    "    - Score: Percent of solicitations awarded out of solicitations listed\n",
    "    - Count: Number of awarded solicitations\n",
    "    - Awarded$: Total $s awarded\n",
    "\"\"\"\n",
    "def get_data_for_NAICS(naics_code):\n",
    "    all_solicitations = len(dfsba[(dfsba['Type'] == 'Solicitation') & (dfsba['NaicsCode'] == naics_code)].index)\n",
    "    awarded_solicitations = len(dfsba[(dfsba['Type'] == 'Award Notice') & (dfsba['BaseType'] == 'Solicitation') & (dfsba['NaicsCode'] == naics_code)].index)\n",
    "    score = 0\n",
    "    if(all_solicitations) != 0:\n",
    "        score = awarded_solicitations/all_solicitations\n",
    "    data = {\n",
    "        'score': score,\n",
    "        'count': awarded_solicitations,\n",
    "        'awarded$': dfsba[(dfsba['Type'] == 'Award Notice') & (dfsba['BaseType'] == 'Solicitation') & (dfsba['NaicsCode'] == naics_code)]['Award$'].astype(float).sum()\n",
    "    }\n",
    "    return(data)"
   ]
  },
  {
   "cell_type": "code",
   "execution_count": 4,
   "metadata": {},
   "outputs": [],
   "source": [
    "# get the data in a dataframe for each NAICS code\n",
    "all_codes = dfsba['NaicsCode'].unique()\n",
    "\n",
    "awardsdf = pd.DataFrame({'naics': [], 'score': [], 'countAwarded': [], 'dollarsAwarded':[]})\n",
    "award_rate_by_codes = {}\n",
    "\n",
    "for code in all_codes:\n",
    "    data = get_data_for_NAICS(code)\n",
    "    awardsdf = pd.concat([awardsdf, pd.DataFrame({'naics': [code], 'score': [data['score']], 'countAwarded': [data['count']], 'dollarsAwarded':[data['awarded$']]})])"
   ]
  },
  {
   "cell_type": "code",
   "execution_count": 5,
   "metadata": {},
   "outputs": [
    {
     "data": {
      "text/html": [
       "<div>\n",
       "<style scoped>\n",
       "    .dataframe tbody tr th:only-of-type {\n",
       "        vertical-align: middle;\n",
       "    }\n",
       "\n",
       "    .dataframe tbody tr th {\n",
       "        vertical-align: top;\n",
       "    }\n",
       "\n",
       "    .dataframe thead th {\n",
       "        text-align: right;\n",
       "    }\n",
       "</style>\n",
       "<table border=\"1\" class=\"dataframe\">\n",
       "  <thead>\n",
       "    <tr style=\"text-align: right;\">\n",
       "      <th></th>\n",
       "      <th>naics</th>\n",
       "      <th>score</th>\n",
       "      <th>countAwarded</th>\n",
       "      <th>dollarsAwarded</th>\n",
       "    </tr>\n",
       "  </thead>\n",
       "  <tbody>\n",
       "    <tr>\n",
       "      <th>0</th>\n",
       "      <td>332722.0</td>\n",
       "      <td>0.060377</td>\n",
       "      <td>16.0</td>\n",
       "      <td>6.682670e+05</td>\n",
       "    </tr>\n",
       "    <tr>\n",
       "      <th>0</th>\n",
       "      <td>561621.0</td>\n",
       "      <td>0.061224</td>\n",
       "      <td>21.0</td>\n",
       "      <td>6.041716e+06</td>\n",
       "    </tr>\n",
       "    <tr>\n",
       "      <th>0</th>\n",
       "      <td>332710.0</td>\n",
       "      <td>0.062147</td>\n",
       "      <td>11.0</td>\n",
       "      <td>2.218835e+07</td>\n",
       "    </tr>\n",
       "    <tr>\n",
       "      <th>0</th>\n",
       "      <td>813110.0</td>\n",
       "      <td>0.075472</td>\n",
       "      <td>12.0</td>\n",
       "      <td>2.741149e+06</td>\n",
       "    </tr>\n",
       "    <tr>\n",
       "      <th>0</th>\n",
       "      <td>335931.0</td>\n",
       "      <td>0.075862</td>\n",
       "      <td>11.0</td>\n",
       "      <td>3.292925e+06</td>\n",
       "    </tr>\n",
       "    <tr>\n",
       "      <th>...</th>\n",
       "      <td>...</td>\n",
       "      <td>...</td>\n",
       "      <td>...</td>\n",
       "      <td>...</td>\n",
       "    </tr>\n",
       "    <tr>\n",
       "      <th>0</th>\n",
       "      <td>311991.0</td>\n",
       "      <td>0.403974</td>\n",
       "      <td>61.0</td>\n",
       "      <td>7.532126e+08</td>\n",
       "    </tr>\n",
       "    <tr>\n",
       "      <th>0</th>\n",
       "      <td>311999.0</td>\n",
       "      <td>0.475556</td>\n",
       "      <td>107.0</td>\n",
       "      <td>2.597307e+08</td>\n",
       "    </tr>\n",
       "    <tr>\n",
       "      <th>0</th>\n",
       "      <td>721211.0</td>\n",
       "      <td>0.573333</td>\n",
       "      <td>43.0</td>\n",
       "      <td>1.470716e+06</td>\n",
       "    </tr>\n",
       "    <tr>\n",
       "      <th>0</th>\n",
       "      <td>325413.0</td>\n",
       "      <td>1.500000</td>\n",
       "      <td>54.0</td>\n",
       "      <td>9.097077e+06</td>\n",
       "    </tr>\n",
       "    <tr>\n",
       "      <th>0</th>\n",
       "      <td>325412.0</td>\n",
       "      <td>3.241935</td>\n",
       "      <td>201.0</td>\n",
       "      <td>9.634232e+06</td>\n",
       "    </tr>\n",
       "  </tbody>\n",
       "</table>\n",
       "<p>80 rows × 4 columns</p>\n",
       "</div>"
      ],
      "text/plain": [
       "       naics     score  countAwarded  dollarsAwarded\n",
       "0   332722.0  0.060377          16.0    6.682670e+05\n",
       "0   561621.0  0.061224          21.0    6.041716e+06\n",
       "0   332710.0  0.062147          11.0    2.218835e+07\n",
       "0   813110.0  0.075472          12.0    2.741149e+06\n",
       "0   335931.0  0.075862          11.0    3.292925e+06\n",
       "..       ...       ...           ...             ...\n",
       "0   311991.0  0.403974          61.0    7.532126e+08\n",
       "0   311999.0  0.475556         107.0    2.597307e+08\n",
       "0   721211.0  0.573333          43.0    1.470716e+06\n",
       "0   325413.0  1.500000          54.0    9.097077e+06\n",
       "0   325412.0  3.241935         201.0    9.634232e+06\n",
       "\n",
       "[80 rows x 4 columns]"
      ]
     },
     "execution_count": 5,
     "metadata": {},
     "output_type": "execute_result"
    }
   ],
   "source": [
    "# Print out the dataframe according to some sorting\n",
    "awardsdf = awardsdf[awardsdf['score'] > 0]\n",
    "\n",
    "awardsdf[awardsdf['countAwarded'] > 10].sort_values(by='score')"
   ]
  },
  {
   "cell_type": "markdown",
   "metadata": {},
   "source": [
    "# Plotting\n",
    "The hypothesis here is that low score contracts will have less competition as a larger amount of bids go unfulfilled. And a large volume of contracts awarded means that there is ample room for new competetors in the NAICS niche"
   ]
  },
  {
   "cell_type": "code",
   "execution_count": 34,
   "metadata": {},
   "outputs": [
    {
     "data": {
      "text/plain": [
       "<Axes: title={'center': 'Award Count / Score'}, xlabel='score', ylabel='countAwarded'>"
      ]
     },
     "execution_count": 34,
     "metadata": {},
     "output_type": "execute_result"
    },
    {
     "data": {
      "image/png": "[encoded data removed]",
      "text/plain": [
       "<Figure size 640x480 with 1 Axes>"
      ]
     },
     "metadata": {},
     "output_type": "display_data"
    }
   ],
   "source": [
    "import matplotlib\n",
    "import naics\n",
    "\n",
    "def getNAICSCodes(filteredDf):\n",
    "    codes = list(filteredDf['naics'])\n",
    "    i = 0\n",
    "    for code in codes:\n",
    "        i = i + 1\n",
    "        print(str(i),\". \",naics.industry(int(code)))\n",
    "\n",
    "awardsdf.plot.scatter(x='score', y='countAwarded', title='Award Count / Score')"
   ]
  },
  {
   "cell_type": "code",
   "execution_count": 35,
   "metadata": {},
   "outputs": [
    {
     "name": "stdout",
     "output_type": "stream",
     "text": [
      "1 .  Commercial and Institutional Building Construction\n",
      "2 .  Highway, Street, and Bridge Construction\n",
      "3 .  Pharmaceutical Preparation Manufacturing\n"
     ]
    }
   ],
   "source": [
    "# Get that NAICS\n",
    "getNAICSCodes(awardsdf[awardsdf['countAwarded'] > 200])"
   ]
  },
  {
   "cell_type": "code",
   "execution_count": 36,
   "metadata": {},
   "outputs": [
    {
     "data": {
      "text/plain": [
       "<Axes: title={'center': 'Awarded $s / Score'}, xlabel='score', ylabel='dollarsAwarded'>"
      ]
     },
     "execution_count": 36,
     "metadata": {},
     "output_type": "execute_result"
    },
    {
     "data": {
      "image/png": "[encoded data removed]",
      "text/plain": [
       "<Figure size 640x480 with 1 Axes>"
      ]
     },
     "metadata": {},
     "output_type": "display_data"
    }
   ],
   "source": [
    "awardsdf.plot.scatter(x='score', y='dollarsAwarded', title='Awarded $s / Score')"
   ]
  },
  {
   "cell_type": "code",
   "execution_count": 37,
   "metadata": {},
   "outputs": [
    {
     "name": "stdout",
     "output_type": "stream",
     "text": [
      "1 .  Research and Development in the Physical, Engineering, and Life Sciences (except Nanotechnology and Biotechnology)\n"
     ]
    }
   ],
   "source": [
    "# Get that NAICS\n",
    "getNAICSCodes(awardsdf[awardsdf['dollarsAwarded'] > 1e10])"
   ]
  }
 ],
 "metadata": {
  "kernelspec": {
   "display_name": "env",
   "language": "python",
   "name": "python3"
  },
  "language_info": {
   "codemirror_mode": {
    "name": "ipython",
    "version": 3
   },
   "file_extension": ".py",
   "mimetype": "text/x-python",
   "name": "python",
   "nbconvert_exporter": "python",
   "pygments_lexer": "ipython3",
   "version": "3.11.2"
  }
 },
 "nbformat": 4,
 "nbformat_minor": 2
}
